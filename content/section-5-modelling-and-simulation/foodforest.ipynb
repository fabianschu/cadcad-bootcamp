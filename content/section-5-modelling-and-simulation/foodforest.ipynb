{
 "cells": [
  {
   "attachments": {},
   "cell_type": "markdown",
   "metadata": {},
   "source": [
    "# Foodforest\n",
    "\n",
    "## Visual System Mapping\n",
    "\n",
    "<center>\n",
    "<img src=\"./images/stock_flow.png\"\n",
    "     alt=\"Exercise diff. spec.\"\n",
    "     style=\"width: 60%;\" />\n",
    "</center>"
   ]
  }
 ],
 "metadata": {
  "kernelspec": {
   "display_name": "cadcad-edu",
   "language": "python",
   "name": "python3"
  },
  "language_info": {
   "name": "python",
   "version": "3.9.16"
  },
  "orig_nbformat": 4,
  "vscode": {
   "interpreter": {
    "hash": "68323773735fb3b70298cf64c07c6f63120667ec17abb777dad554beb77c0aed"
   }
  }
 },
 "nbformat": 4,
 "nbformat_minor": 2
}
